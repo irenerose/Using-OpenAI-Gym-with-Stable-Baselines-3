{
 "cells": [
  {
   "cell_type": "code",
   "execution_count": 3,
   "id": "046fa444",
   "metadata": {},
   "outputs": [
    {
     "name": "stdout",
     "output_type": "stream",
     "text": [
      "Using cpu device\n",
      "Wrapping the env with a `Monitor` wrapper\n",
      "Wrapping the env in a DummyVecEnv.\n",
      "---------------------------------\n",
      "| rollout/           |          |\n",
      "|    ep_len_mean     | 21.8     |\n",
      "|    ep_rew_mean     | 21.8     |\n",
      "| time/              |          |\n",
      "|    fps             | 600      |\n",
      "|    iterations      | 1        |\n",
      "|    time_elapsed    | 3        |\n",
      "|    total_timesteps | 2048     |\n",
      "---------------------------------\n",
      "Steps: 113\n",
      "Reward: [113.]\n"
     ]
    }
   ],
   "source": [
    "# Import the OpenAI Gym and PPO algorithm implementation from Stable Baselines3 libraries. \n",
    "import gym\n",
    "from stable_baselines3 import PPO\n",
    "\n",
    "# create the Cartpole environment from the OpenAI Gym\n",
    "env = gym.make('CartPole-v1')\n",
    "\n",
    "# create the agent and train it for 1000 steps\n",
    "model = PPO('MlpPolicy', env, verbose=1)\n",
    "model.learn(total_timesteps=1000)\n",
    "\n",
    "# run the environment for one episode and get the steps and reward for this episode\n",
    "vec_env = model.get_env()\n",
    "obs = vec_env.reset()\n",
    "done = False\n",
    "steps = 0\n",
    "reward = 0\n",
    "while not done:\n",
    "    action, _state = model.predict(obs, deterministic=True)\n",
    "    obs, r, done, info = vec_env.step(action)\n",
    "    steps += 1\n",
    "    reward += r\n",
    "\n",
    "# Print the number of steps taken and the accumulated reward obtained during the episode.\n",
    "print(f'Steps: {steps}')\n",
    "print(f'Reward: {reward}')"
   ]
  },
  {
   "cell_type": "code",
   "execution_count": 4,
   "id": "e862fb6e",
   "metadata": {},
   "outputs": [
    {
     "name": "stdout",
     "output_type": "stream",
     "text": [
      "Using cpu device\n",
      "Wrapping the env with a `Monitor` wrapper\n",
      "Wrapping the env in a DummyVecEnv.\n",
      "---------------------------------\n",
      "| rollout/           |          |\n",
      "|    ep_len_mean     | 20.3     |\n",
      "|    ep_rew_mean     | 20.3     |\n",
      "| time/              |          |\n",
      "|    fps             | 591      |\n",
      "|    iterations      | 1        |\n",
      "|    time_elapsed    | 3        |\n",
      "|    total_timesteps | 2048     |\n",
      "---------------------------------\n",
      "reward:[262.0] steps: [262]\n"
     ]
    }
   ],
   "source": [
    "#This code demonstrates how to use the evaluate_policy function from the Stable Baselines3 library to evaluate the \n",
    "#performance of a trained agent on a given environment.\n",
    "from stable_baselines3.common.evaluation import evaluate_policy\n",
    "\n",
    "# create the environment\n",
    "env = gym.make('CartPole-v1')\n",
    "\n",
    "# create the agent and train it for 1000 steps\n",
    "model = PPO('MlpPolicy', env, verbose=1)\n",
    "model.learn(total_timesteps=1000)\n",
    "\n",
    "# Evaluate the trained agent\n",
    "#The function returns two variables: reward and step. The reward variable contains the total reward obtained by the agent \n",
    "# and the step variable contains the total number of steps taken by the agent.\n",
    "reward, step = evaluate_policy(model, env, n_eval_episodes=1, return_episode_rewards=True)\n",
    "\n",
    "print(f\"reward:{reward} steps: {step}\")"
   ]
  },
  {
   "cell_type": "code",
   "execution_count": null,
   "id": "2a3043b7",
   "metadata": {},
   "outputs": [],
   "source": []
  }
 ],
 "metadata": {
  "kernelspec": {
   "display_name": "Python 3 (ipykernel)",
   "language": "python",
   "name": "python3"
  },
  "language_info": {
   "codemirror_mode": {
    "name": "ipython",
    "version": 3
   },
   "file_extension": ".py",
   "mimetype": "text/x-python",
   "name": "python",
   "nbconvert_exporter": "python",
   "pygments_lexer": "ipython3",
   "version": "3.9.16"
  }
 },
 "nbformat": 4,
 "nbformat_minor": 5
}
